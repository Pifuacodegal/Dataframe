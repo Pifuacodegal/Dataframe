{
 "cells": [
  {
   "cell_type": "code",
   "execution_count": 53,
   "metadata": {},
   "outputs": [],
   "source": [
    "import pandas as pd"
   ]
  },
  {
   "cell_type": "code",
   "execution_count": 12,
   "metadata": {},
   "outputs": [
    {
     "name": "stdout",
     "output_type": "stream",
     "text": [
      "     S/N             student_names  age weight   height\n",
      "0    1.0            Adokorac Nancy   20     74    177.8\n",
      "1    2.0   Amutuhaire Faith Ahabwe   27     47   157.48\n",
      "2    3.0     KWAGALA JOANNA VICTOR   21     54   185.42\n",
      "3    4.0              mahoro cathy   23     30   185.42\n",
      "4    5.0  Mbabazi Hawa Bint Edrisa   19     59   175.26\n",
      "5    6.0       Nakanjako josephine   24     65   175.26\n",
      "6    7.0            Nanteza Dorcus   21     69   157.48\n",
      "7    8.0             Mbabazi Angel   19     57   167.64\n",
      "8    9.0            Namara Racheal   19     55   154.94\n",
      "9   10.0       Lwamulungi Sheillah   22     78   162.56\n",
      "10   NaN           Nakawuka Sandra   25     60   175.26\n",
      "11   NaN   Achola Gloria Fortunate   27     80   172.72\n",
      "12   NaN             Nagawa Esther   21     58   188.42\n",
      "13   NaN           wanjiku hananny   19     50    165.1\n",
      "14   NaN            babirye Sandra   21     50   175.26\n",
      "15   NaN          nakagga shanitah   21     50   175.26\n",
      "16   NaN    Wembabazi Vivian Ritah   20     49   160.02\n",
      "17   NaN   Nanziri Ritah Namayanja   23     70   162.56\n",
      "18   NaN            Nasejje Mariam   20     62    101.6\n",
      "19   NaN  Namukose Jolline Edriana   20     55   162.56\n",
      "20   NaN      Agatha Faith Anyango   27     55    93.98\n",
      "21   NaN              Kirabo Sarah   23     60    165.1\n",
      "22   NaN          Nansalire Anitah   21     45     63.5\n",
      "23   NaN             Nalugo gladys   19     70    101.6\n",
      "24   NaN            Namakula Allen   20     55   170.18\n",
      "25   NaN           Tukahirwa emily   22     67   175.26\n",
      "26   NaN            Shamirah Ahmed   21     67   137.16\n",
      "27   NaN          Ameso lmmaculate   23     64    165.1\n",
      "28   NaN                Ayoo Teddy   20     50   157.48\n",
      "29   NaN                Biira Mary   30     65   104.14\n",
      "30   NaN        Aloyo Brenda Ojera   23     52   170.18\n",
      "31   NaN        Ayebale Immaculate   24     50   162.56\n"
     ]
    }
   ],
   "source": [
    "# Creating a DataFrame called df\n",
    "df = pd.read_excel(r'C:\\Users\\Student\\Desktop\\Data Science\\Data\\dataset.xlsx')\n",
    "print(df)"
   ]
  },
  {
   "cell_type": "code",
   "execution_count": 11,
   "metadata": {},
   "outputs": [
    {
     "name": "stdout",
     "output_type": "stream",
     "text": [
      "Collecting openpyxl\n",
      "  Downloading openpyxl-3.1.2-py2.py3-none-any.whl (249 kB)\n",
      "     ---------------------------------------- 0.0/250.0 kB ? eta -:--:--\n",
      "     - -------------------------------------- 10.2/250.0 kB ? eta -:--:--\n",
      "     ---- -------------------------------- 30.7/250.0 kB 325.1 kB/s eta 0:00:01\n",
      "     --------- --------------------------- 61.4/250.0 kB 465.5 kB/s eta 0:00:01\n",
      "     ----------------- ------------------ 122.9/250.0 kB 717.5 kB/s eta 0:00:01\n",
      "     ---------------------------------- --- 225.3/250.0 kB 1.1 MB/s eta 0:00:01\n",
      "     -------------------------------------- 250.0/250.0 kB 1.1 MB/s eta 0:00:00\n",
      "Collecting et-xmlfile (from openpyxl)\n",
      "  Downloading et_xmlfile-1.1.0-py3-none-any.whl (4.7 kB)\n",
      "Installing collected packages: et-xmlfile, openpyxl\n",
      "Successfully installed et-xmlfile-1.1.0 openpyxl-3.1.2\n",
      "Note: you may need to restart the kernel to use updated packages.\n"
     ]
    }
   ],
   "source": [
    "pip install openpyxl"
   ]
  },
  {
   "cell_type": "code",
   "execution_count": 13,
   "metadata": {},
   "outputs": [
    {
     "data": {
      "text/plain": [
       "(32, 5)"
      ]
     },
     "execution_count": 13,
     "metadata": {},
     "output_type": "execute_result"
    }
   ],
   "source": [
    "df.shape"
   ]
  },
  {
   "cell_type": "code",
   "execution_count": 14,
   "metadata": {},
   "outputs": [
    {
     "data": {
      "text/plain": [
       "Index(['S/N', 'student_names', 'age', 'weight', 'height'], dtype='object')"
      ]
     },
     "execution_count": 14,
     "metadata": {},
     "output_type": "execute_result"
    }
   ],
   "source": [
    "df.columns"
   ]
  },
  {
   "cell_type": "code",
   "execution_count": 15,
   "metadata": {},
   "outputs": [
    {
     "data": {
      "text/plain": [
       "pandas.core.frame.DataFrame"
      ]
     },
     "execution_count": 15,
     "metadata": {},
     "output_type": "execute_result"
    }
   ],
   "source": [
    "type(df)"
   ]
  },
  {
   "cell_type": "markdown",
   "metadata": {},
   "source": [
    "Find the mean , standard deviaton and variance of the students"
   ]
  },
  {
   "cell_type": "markdown",
   "metadata": {},
   "source": [
    "Student's age\n"
   ]
  },
  {
   "cell_type": "code",
   "execution_count": 16,
   "metadata": {},
   "outputs": [
    {
     "name": "stdout",
     "output_type": "stream",
     "text": [
      "mean: 22.03125\n"
     ]
    }
   ],
   "source": [
    "#Mean\n",
    "print(\"mean:\",df[\"age\"].mean())"
   ]
  },
  {
   "cell_type": "code",
   "execution_count": 17,
   "metadata": {},
   "outputs": [
    {
     "name": "stdout",
     "output_type": "stream",
     "text": [
      "var: 7.644153225806452\n"
     ]
    }
   ],
   "source": [
    "#Variance\n",
    "print(\"var:\",df[\"age\"].var())"
   ]
  },
  {
   "cell_type": "code",
   "execution_count": 18,
   "metadata": {},
   "outputs": [
    {
     "name": "stdout",
     "output_type": "stream",
     "text": [
      "std: 2.7648061823220904\n"
     ]
    }
   ],
   "source": [
    "#standard deviation\n",
    "print(\"std:\",df[\"age\"].std())"
   ]
  },
  {
   "cell_type": "code",
   "execution_count": 11,
   "metadata": {},
   "outputs": [
    {
     "name": "stdout",
     "output_type": "stream",
     "text": [
      "Requirement already satisfied: openpyxl in c:\\users\\student\\appdata\\local\\packages\\pythonsoftwarefoundation.python.3.11_qbz5n2kfra8p0\\localcache\\local-packages\\python311\\site-packages (3.1.2)\n",
      "Requirement already satisfied: et-xmlfile in c:\\users\\student\\appdata\\local\\packages\\pythonsoftwarefoundation.python.3.11_qbz5n2kfra8p0\\localcache\\local-packages\\python311\\site-packages (from openpyxl) (1.1.0)\n",
      "Note: you may need to restart the kernel to use updated packages.\n"
     ]
    }
   ],
   "source": [
    "pip install openpyxl"
   ]
  },
  {
   "cell_type": "markdown",
   "metadata": {},
   "source": [
    "STUNDENT'S HEIGHT"
   ]
  },
  {
   "cell_type": "code",
   "execution_count": 13,
   "metadata": {},
   "outputs": [],
   "source": [
    "import pandas as pd"
   ]
  },
  {
   "cell_type": "code",
   "execution_count": 22,
   "metadata": {},
   "outputs": [
    {
     "name": "stdout",
     "output_type": "stream",
     "text": [
      "Collecting xlrdNote: you may need to restart the kernel to use updated packages.\n",
      "\n",
      "  Downloading xlrd-2.0.1-py2.py3-none-any.whl (96 kB)\n",
      "     ---------------------------------------- 0.0/96.5 kB ? eta -:--:--\n",
      "     ---------------------------------------- 0.0/96.5 kB ? eta -:--:--\n",
      "     ---------------------------------------- 0.0/96.5 kB ? eta -:--:--\n",
      "     ------------ ------------------------- 30.7/96.5 kB 435.7 kB/s eta 0:00:01\n",
      "     ---------------- --------------------- 41.0/96.5 kB 495.5 kB/s eta 0:00:01\n",
      "     ---------------------------- --------- 71.7/96.5 kB 438.9 kB/s eta 0:00:01\n",
      "     -------------------------------------- 96.5/96.5 kB 553.1 kB/s eta 0:00:00\n",
      "Installing collected packages: xlrd\n",
      "Successfully installed xlrd-2.0.1\n"
     ]
    }
   ],
   "source": [
    "pip install xlrd"
   ]
  },
  {
   "cell_type": "markdown",
   "metadata": {},
   "source": [
    "STUDENT'S WEIGHT"
   ]
  },
  {
   "cell_type": "code",
   "execution_count": 45,
   "metadata": {},
   "outputs": [],
   "source": [
    "#weight\n",
    "df = df[pd.to_numeric(df['weight'],errors='coerce').notna()]"
   ]
  },
  {
   "cell_type": "code",
   "execution_count": 46,
   "metadata": {},
   "outputs": [
    {
     "name": "stdout",
     "output_type": "stream",
     "text": [
      "mean: 60.607142857142854\n"
     ]
    }
   ],
   "source": [
    "#mean weight\n",
    "print(\"mean:\",df[\"weight\"].mean())"
   ]
  },
  {
   "cell_type": "code",
   "execution_count": 47,
   "metadata": {},
   "outputs": [
    {
     "name": "stdout",
     "output_type": "stream",
     "text": [
      "var: 80.09920634920634\n"
     ]
    }
   ],
   "source": [
    "#Variance weight\n",
    "print(\"var:\",df[\"weight\"].var())"
   ]
  },
  {
   "cell_type": "code",
   "execution_count": 48,
   "metadata": {},
   "outputs": [
    {
     "name": "stdout",
     "output_type": "stream",
     "text": [
      "std: 8.949815995270871\n"
     ]
    }
   ],
   "source": [
    "#Standard deviation weight\n",
    "print(\"std:\",df[\"weight\"].std())"
   ]
  },
  {
   "cell_type": "markdown",
   "metadata": {},
   "source": [
    "STUDENT'S HEIGHT"
   ]
  },
  {
   "cell_type": "code",
   "execution_count": 49,
   "metadata": {},
   "outputs": [],
   "source": [
    "#Height\n",
    "df = df[pd.to_numeric(df['height'],errors='coerce').notna()]"
   ]
  },
  {
   "cell_type": "code",
   "execution_count": 50,
   "metadata": {},
   "outputs": [
    {
     "name": "stdout",
     "output_type": "stream",
     "text": [
      "mean: 166.37\n"
     ]
    }
   ],
   "source": [
    "#mean height\n",
    "print(\"mean:\",df[\"height\"].mean())"
   ]
  },
  {
   "cell_type": "code",
   "execution_count": 51,
   "metadata": {},
   "outputs": [
    {
     "name": "stdout",
     "output_type": "stream",
     "text": [
      "var: 29.032200000000035\n"
     ]
    }
   ],
   "source": [
    "#Variance height\n",
    "print(\"var:\",df[\"height\"].var())"
   ]
  },
  {
   "cell_type": "code",
   "execution_count": 52,
   "metadata": {},
   "outputs": [
    {
     "name": "stdout",
     "output_type": "stream",
     "text": [
      "std: 5.388153672641495\n"
     ]
    }
   ],
   "source": [
    "#Standard deviation\n",
    "print(\"std:\",df[\"height\"].std())"
   ]
  }
 ],
 "metadata": {
  "kernelspec": {
   "display_name": "Python 3",
   "language": "python",
   "name": "python3"
  },
  "language_info": {
   "codemirror_mode": {
    "name": "ipython",
    "version": 3
   },
   "file_extension": ".py",
   "mimetype": "text/x-python",
   "name": "python",
   "nbconvert_exporter": "python",
   "pygments_lexer": "ipython3",
   "version": "3.11.5"
  },
  "orig_nbformat": 4
 },
 "nbformat": 4,
 "nbformat_minor": 2
}
